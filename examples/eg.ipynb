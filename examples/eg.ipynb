{
 "cells": [
  {
   "cell_type": "code",
   "execution_count": 2,
   "metadata": {},
   "outputs": [
    {
     "name": "stdout",
     "output_type": "stream",
     "text": [
      "The autoreload extension is already loaded. To reload it, use:\n",
      "  %reload_ext autoreload\n"
     ]
    }
   ],
   "source": [
    "%load_ext autoreload\n",
    "%autoreload 2\n",
    "\n",
    "from alpaca_api import AlpacaRequester\n",
    "from tqdm import tqdm\n",
    "import requests\n",
    "import time"
   ]
  },
  {
   "cell_type": "code",
   "execution_count": 3,
   "metadata": {},
   "outputs": [
    {
     "name": "stderr",
     "output_type": "stream",
     "text": [
      "Fetching pages: 30it [00:04,  6.62it/s]"
     ]
    },
    {
     "name": "stdout",
     "output_type": "stream",
     "text": [
      "Wrote news to files\n"
     ]
    },
    {
     "name": "stderr",
     "output_type": "stream",
     "text": [
      "\n"
     ]
    }
   ],
   "source": [
    "X = AlpacaRequester()\n",
    "\n",
    "X.get_news(start=\"2025-04-01\",end=\"2025-05-01\",symbols=[\"AAPL\",'NVDA','SPY'],include_content=False)"
   ]
  },
  {
   "cell_type": "code",
   "execution_count": 4,
   "metadata": {},
   "outputs": [
    {
     "name": "stderr",
     "output_type": "stream",
     "text": [
      "Fetching pages: 9it [00:02,  3.68it/s]"
     ]
    },
    {
     "name": "stdout",
     "output_type": "stream",
     "text": [
      "Wrote bars to files\n"
     ]
    },
    {
     "name": "stderr",
     "output_type": "stream",
     "text": [
      "\n"
     ]
    }
   ],
   "source": [
    "X = AlpacaRequester()\n",
    "\n",
    "X.get_bars(symbols=[\"SPY,AAPL,NVDA,BRK.B,MSFT\"],timeframe=\"5T\",start=\"2025-04-01\",end='2025-05-01',adjustment=\"all\",feed=\"sip\")"
   ]
  },
  {
   "cell_type": "code",
   "execution_count": 5,
   "metadata": {},
   "outputs": [
    {
     "data": {
      "text/html": [
       "<div>\n",
       "<style scoped>\n",
       "    .dataframe tbody tr th:only-of-type {\n",
       "        vertical-align: middle;\n",
       "    }\n",
       "\n",
       "    .dataframe tbody tr th {\n",
       "        vertical-align: top;\n",
       "    }\n",
       "\n",
       "    .dataframe thead th {\n",
       "        text-align: right;\n",
       "    }\n",
       "</style>\n",
       "<table border=\"1\" class=\"dataframe\">\n",
       "  <thead>\n",
       "    <tr style=\"text-align: right;\">\n",
       "      <th></th>\n",
       "      <th>close</th>\n",
       "      <th>date</th>\n",
       "      <th>open</th>\n",
       "      <th>session_close</th>\n",
       "      <th>session_open</th>\n",
       "      <th>settlement_date</th>\n",
       "    </tr>\n",
       "  </thead>\n",
       "  <tbody>\n",
       "    <tr>\n",
       "      <th>0</th>\n",
       "      <td>16:00</td>\n",
       "      <td>1970-01-02</td>\n",
       "      <td>09:30</td>\n",
       "      <td>2000</td>\n",
       "      <td>0400</td>\n",
       "      <td>1970-01-09</td>\n",
       "    </tr>\n",
       "    <tr>\n",
       "      <th>1</th>\n",
       "      <td>16:00</td>\n",
       "      <td>1970-01-05</td>\n",
       "      <td>09:30</td>\n",
       "      <td>2000</td>\n",
       "      <td>0400</td>\n",
       "      <td>1970-01-12</td>\n",
       "    </tr>\n",
       "    <tr>\n",
       "      <th>2</th>\n",
       "      <td>16:00</td>\n",
       "      <td>1970-01-06</td>\n",
       "      <td>09:30</td>\n",
       "      <td>2000</td>\n",
       "      <td>0400</td>\n",
       "      <td>1970-01-13</td>\n",
       "    </tr>\n",
       "    <tr>\n",
       "      <th>3</th>\n",
       "      <td>16:00</td>\n",
       "      <td>1970-01-07</td>\n",
       "      <td>09:30</td>\n",
       "      <td>2000</td>\n",
       "      <td>0400</td>\n",
       "      <td>1970-01-14</td>\n",
       "    </tr>\n",
       "    <tr>\n",
       "      <th>4</th>\n",
       "      <td>16:00</td>\n",
       "      <td>1970-01-08</td>\n",
       "      <td>09:30</td>\n",
       "      <td>2000</td>\n",
       "      <td>0400</td>\n",
       "      <td>1970-01-15</td>\n",
       "    </tr>\n",
       "    <tr>\n",
       "      <th>...</th>\n",
       "      <td>...</td>\n",
       "      <td>...</td>\n",
       "      <td>...</td>\n",
       "      <td>...</td>\n",
       "      <td>...</td>\n",
       "      <td>...</td>\n",
       "    </tr>\n",
       "    <tr>\n",
       "      <th>14122</th>\n",
       "      <td>13:00</td>\n",
       "      <td>2025-12-24</td>\n",
       "      <td>09:30</td>\n",
       "      <td>1700</td>\n",
       "      <td>0400</td>\n",
       "      <td>2025-12-26</td>\n",
       "    </tr>\n",
       "    <tr>\n",
       "      <th>14123</th>\n",
       "      <td>16:00</td>\n",
       "      <td>2025-12-26</td>\n",
       "      <td>09:30</td>\n",
       "      <td>2000</td>\n",
       "      <td>0400</td>\n",
       "      <td>2025-12-29</td>\n",
       "    </tr>\n",
       "    <tr>\n",
       "      <th>14124</th>\n",
       "      <td>16:00</td>\n",
       "      <td>2025-12-29</td>\n",
       "      <td>09:30</td>\n",
       "      <td>2000</td>\n",
       "      <td>0400</td>\n",
       "      <td>2025-12-30</td>\n",
       "    </tr>\n",
       "    <tr>\n",
       "      <th>14125</th>\n",
       "      <td>16:00</td>\n",
       "      <td>2025-12-30</td>\n",
       "      <td>09:30</td>\n",
       "      <td>2000</td>\n",
       "      <td>0400</td>\n",
       "      <td>2025-12-31</td>\n",
       "    </tr>\n",
       "    <tr>\n",
       "      <th>14126</th>\n",
       "      <td>16:00</td>\n",
       "      <td>2025-12-31</td>\n",
       "      <td>09:30</td>\n",
       "      <td>2000</td>\n",
       "      <td>0400</td>\n",
       "      <td>2026-01-02</td>\n",
       "    </tr>\n",
       "  </tbody>\n",
       "</table>\n",
       "<p>14127 rows × 6 columns</p>\n",
       "</div>"
      ],
      "text/plain": [
       "       close       date   open session_close session_open settlement_date\n",
       "0      16:00 1970-01-02  09:30          2000         0400      1970-01-09\n",
       "1      16:00 1970-01-05  09:30          2000         0400      1970-01-12\n",
       "2      16:00 1970-01-06  09:30          2000         0400      1970-01-13\n",
       "3      16:00 1970-01-07  09:30          2000         0400      1970-01-14\n",
       "4      16:00 1970-01-08  09:30          2000         0400      1970-01-15\n",
       "...      ...        ...    ...           ...          ...             ...\n",
       "14122  13:00 2025-12-24  09:30          1700         0400      2025-12-26\n",
       "14123  16:00 2025-12-26  09:30          2000         0400      2025-12-29\n",
       "14124  16:00 2025-12-29  09:30          2000         0400      2025-12-30\n",
       "14125  16:00 2025-12-30  09:30          2000         0400      2025-12-31\n",
       "14126  16:00 2025-12-31  09:30          2000         0400      2026-01-02\n",
       "\n",
       "[14127 rows x 6 columns]"
      ]
     },
     "execution_count": 5,
     "metadata": {},
     "output_type": "execute_result"
    }
   ],
   "source": [
    "calendar = X.market_calendar(start='0000-01-01',end='2026-01-01')\n",
    "calendar"
   ]
  }
 ],
 "metadata": {
  "kernelspec": {
   "display_name": ".venv",
   "language": "python",
   "name": "python3"
  },
  "language_info": {
   "codemirror_mode": {
    "name": "ipython",
    "version": 3
   },
   "file_extension": ".py",
   "mimetype": "text/x-python",
   "name": "python",
   "nbconvert_exporter": "python",
   "pygments_lexer": "ipython3",
   "version": "3.13.5"
  }
 },
 "nbformat": 4,
 "nbformat_minor": 2
}
