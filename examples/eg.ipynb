{
 "cells": [
  {
   "cell_type": "code",
   "execution_count": 2,
   "metadata": {},
   "outputs": [],
   "source": [
    "%load_ext autoreload\n",
    "%autoreload 2\n",
    "from alpaca_api import AlpacaRequester\n",
    "from tqdm import tqdm\n",
    "import requests\n",
    "import time"
   ]
  },
  {
   "cell_type": "code",
   "execution_count": null,
   "metadata": {},
   "outputs": [
    {
     "name": "stderr",
     "output_type": "stream",
     "text": [
      "Fetching pages: 0it [00:00, ?it/s]"
     ]
    },
    {
     "name": "stderr",
     "output_type": "stream",
     "text": [
      "Fetching pages: 191it [00:45,  4.37it/s]"
     ]
    }
   ],
   "source": [
    "X = AlpacaRequester()\n",
    "\n",
    "response = X.get_news(**{\"start\":\"2024-01-01\",\"end\":\"2025-01-02\",\"symbols\":[\"AAPL\",'NVDA','SPY'],\"limit\":50,\"include_content\":False})\n",
    "response"
   ]
  },
  {
   "cell_type": "code",
   "execution_count": 2,
   "metadata": {},
   "outputs": [
    {
     "name": "stderr",
     "output_type": "stream",
     "text": [
      "Fetching pages: 46it [00:18,  2.51it/s]"
     ]
    },
    {
     "name": "stdout",
     "output_type": "stream",
     "text": [
      "Wrote bars to files\n"
     ]
    },
    {
     "name": "stderr",
     "output_type": "stream",
     "text": [
      "\n"
     ]
    }
   ],
   "source": [
    "%reload_ext autoreload\n",
    "X = AlpacaRequester()\n",
    "\n",
    "response = X.get_bars(**{\"symbols\":[\"SPY,AAPL,NVDA,BRK.B,MSFT\"],\"timeframe\":\"5T\",\"start\":\"2025-01-01\",\"limit\":10_000,\"adjustment\":\"all\",\"feed\":\"sip\"})\n",
    "\n",
    "response"
   ]
  },
  {
   "cell_type": "code",
   "execution_count": null,
   "metadata": {},
   "outputs": [],
   "source": []
  }
 ],
 "metadata": {
  "kernelspec": {
   "display_name": ".venv",
   "language": "python",
   "name": "python3"
  },
  "language_info": {
   "codemirror_mode": {
    "name": "ipython",
    "version": 3
   },
   "file_extension": ".py",
   "mimetype": "text/x-python",
   "name": "python",
   "nbconvert_exporter": "python",
   "pygments_lexer": "ipython3",
   "version": "3.13.5"
  }
 },
 "nbformat": 4,
 "nbformat_minor": 2
}
